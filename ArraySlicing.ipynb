{
 "cells": [
  {
   "cell_type": "markdown",
   "metadata": {},
   "source": [
    "# Array Slicing"
   ]
  },
  {
   "cell_type": "markdown",
   "metadata": {},
   "source": [
    "## Array Slicing: One dimensional "
   ]
  },
  {
   "cell_type": "code",
   "execution_count": 10,
   "metadata": {},
   "outputs": [
    {
     "data": {
      "text/plain": [
       "array([ 5,  6,  7,  8,  9, 10, 11, 12, 13, 14])"
      ]
     },
     "execution_count": 10,
     "metadata": {},
     "output_type": "execute_result"
    }
   ],
   "source": [
    "import numpy as np\n",
    "\n",
    "#Array 10 valori che parte da 5 fino a 15 (escluso)\n",
    "\n",
    "x = np.arange(5,15,1)\n",
    "x"
   ]
  },
  {
   "cell_type": "code",
   "execution_count": 8,
   "metadata": {},
   "outputs": [
    {
     "data": {
      "text/plain": [
       "array([ 5,  6,  7,  8,  9, 10])"
      ]
     },
     "execution_count": 8,
     "metadata": {},
     "output_type": "execute_result"
    }
   ],
   "source": [
    "#Primi sei valori\n",
    "x[:6]"
   ]
  },
  {
   "cell_type": "code",
   "execution_count": 23,
   "metadata": {},
   "outputs": [
    {
     "data": {
      "text/plain": [
       "array([ 8,  9, 10, 11, 12, 13, 14])"
      ]
     },
     "execution_count": 23,
     "metadata": {},
     "output_type": "execute_result"
    }
   ],
   "source": [
    "#Elementi dopo l'indice 3\n",
    "x[3:]"
   ]
  },
  {
   "cell_type": "code",
   "execution_count": 18,
   "metadata": {},
   "outputs": [
    {
     "data": {
      "text/plain": [
       "array([ 8,  9, 10, 11, 12])"
      ]
     },
     "execution_count": 18,
     "metadata": {},
     "output_type": "execute_result"
    }
   ],
   "source": [
    "#Subarray con valori 8,9,10,11,12\n",
    "x[3:8]"
   ]
  },
  {
   "cell_type": "code",
   "execution_count": 20,
   "metadata": {},
   "outputs": [
    {
     "data": {
      "text/plain": [
       "array([ 5,  8, 11, 14])"
      ]
     },
     "execution_count": 20,
     "metadata": {},
     "output_type": "execute_result"
    }
   ],
   "source": [
    "#Un elemento ogni 3 partendo dal primo\n",
    "x[::3]"
   ]
  },
  {
   "cell_type": "code",
   "execution_count": 24,
   "metadata": {},
   "outputs": [
    {
     "data": {
      "text/plain": [
       "array([ 8, 11, 14])"
      ]
     },
     "execution_count": 24,
     "metadata": {},
     "output_type": "execute_result"
    }
   ],
   "source": [
    "#Un elemento ogni 3 partendo dal terzo\n",
    "x[3::3]"
   ]
  },
  {
   "cell_type": "markdown",
   "metadata": {},
   "source": [
    "## Array Slicing: Multi dimensional"
   ]
  },
  {
   "cell_type": "markdown",
   "metadata": {},
   "source": [
    "### es2a"
   ]
  },
  {
   "cell_type": "code",
   "execution_count": 29,
   "metadata": {},
   "outputs": [
    {
     "data": {
      "text/plain": [
       "array([[12, 15,  5,  0,  3, 11],\n",
       "       [ 3,  7,  9,  3,  5,  2],\n",
       "       [ 4,  7,  6,  8,  8, 12],\n",
       "       [10,  1,  6,  7,  7, 14]])"
      ]
     },
     "execution_count": 29,
     "metadata": {},
     "output_type": "execute_result"
    }
   ],
   "source": [
    "np.random.seed(0)\n",
    "\n",
    "es2a = np.random.randint(16, size=(4,6))\n",
    "es2a"
   ]
  },
  {
   "cell_type": "code",
   "execution_count": 30,
   "metadata": {},
   "outputs": [
    {
     "data": {
      "text/plain": [
       "array([[12, 15,  5],\n",
       "       [ 3,  7,  9],\n",
       "       [ 4,  7,  6]])"
      ]
     },
     "execution_count": 30,
     "metadata": {},
     "output_type": "execute_result"
    }
   ],
   "source": [
    "#Prime tre righe e prime tre colonne\n",
    "es2a[:3, :3]"
   ]
  },
  {
   "cell_type": "code",
   "execution_count": 37,
   "metadata": {},
   "outputs": [
    {
     "data": {
      "text/plain": [
       "array([[ 3,  5,  2],\n",
       "       [ 8,  8, 12]])"
      ]
     },
     "execution_count": 37,
     "metadata": {},
     "output_type": "execute_result"
    }
   ],
   "source": [
    "#Seconda e terza riga, quarta, quinta e sesta colonna\n",
    "es2a[1:3, 3:]"
   ]
  },
  {
   "cell_type": "code",
   "execution_count": 54,
   "metadata": {},
   "outputs": [
    {
     "data": {
      "text/plain": [
       "array([[ 0,  3, 11],\n",
       "       [ 3,  5,  2],\n",
       "       [ 8,  8, 12],\n",
       "       [ 7,  7, 14]])"
      ]
     },
     "execution_count": 54,
     "metadata": {},
     "output_type": "execute_result"
    }
   ],
   "source": [
    "#Elementi dopo il terzo elemento\n",
    "es2a[0::,3:]"
   ]
  },
  {
   "cell_type": "code",
   "execution_count": 47,
   "metadata": {},
   "outputs": [
    {
     "data": {
      "text/plain": [
       "array([[11,  3,  0,  5, 15, 12],\n",
       "       [ 2,  5,  3,  9,  7,  3],\n",
       "       [12,  8,  8,  6,  7,  4],\n",
       "       [14,  7,  7,  6,  1, 10]])"
      ]
     },
     "execution_count": 47,
     "metadata": {},
     "output_type": "execute_result"
    }
   ],
   "source": [
    "#Invertire l'ordine delle sole righe\n",
    "es2a[0:,::-1]"
   ]
  },
  {
   "cell_type": "code",
   "execution_count": 49,
   "metadata": {},
   "outputs": [
    {
     "data": {
      "text/plain": [
       "array([[10,  1,  6,  7,  7, 14],\n",
       "       [ 4,  7,  6,  8,  8, 12],\n",
       "       [ 3,  7,  9,  3,  5,  2],\n",
       "       [12, 15,  5,  0,  3, 11]])"
      ]
     },
     "execution_count": 49,
     "metadata": {},
     "output_type": "execute_result"
    }
   ],
   "source": [
    "#Invertire l'ordine delle sole colonne\n",
    "es2a[::-1]"
   ]
  },
  {
   "cell_type": "markdown",
   "metadata": {},
   "source": [
    "### es2b"
   ]
  },
  {
   "cell_type": "code",
   "execution_count": 63,
   "metadata": {},
   "outputs": [
    {
     "data": {
      "text/plain": [
       "array([[[12, 15, 21,  0,  3],\n",
       "        [27,  3,  7,  9, 19],\n",
       "        [21, 18,  4, 23,  6],\n",
       "        [24, 24, 12, 26,  1],\n",
       "        [ 6,  7, 23, 14, 24]],\n",
       "\n",
       "       [[17,  5, 25, 13,  8],\n",
       "        [ 9, 20, 19, 16, 19],\n",
       "        [ 5, 30, 15, 15,  0],\n",
       "        [18,  3, 24, 17, 19],\n",
       "        [29, 19, 19, 14,  7]]])"
      ]
     },
     "execution_count": 63,
     "metadata": {},
     "output_type": "execute_result"
    }
   ],
   "source": [
    "np.random.seed(0)\n",
    "\n",
    "es2b = np.random.randint(31, size= (2, 5, 5))\n",
    "es2b"
   ]
  },
  {
   "cell_type": "code",
   "execution_count": 71,
   "metadata": {},
   "outputs": [
    {
     "data": {
      "text/plain": [
       "array([[15, 21,  0],\n",
       "       [ 3,  7,  9]])"
      ]
     },
     "execution_count": 71,
     "metadata": {},
     "output_type": "execute_result"
    }
   ],
   "source": [
    "#Selezionare il primo subarray, poi prendere le prime 2 righe e le colonne dalla seconda alla quarta\n",
    "es2b[0, :2, 1:4]"
   ]
  },
  {
   "cell_type": "code",
   "execution_count": 78,
   "metadata": {},
   "outputs": [
    {
     "name": "stdout",
     "output_type": "stream",
     "text": [
      "Matrice [[[ 9 20 19 16 19]\n",
      "  [17  5 25 13  8]]\n",
      "\n",
      " [[27  3  7  9 19]\n",
      "  [12 15 21  0  3]]]\n"
     ]
    }
   ],
   "source": [
    "#Selezionare da entrambi i subarray le prime due righe e prime due colonne e invertire righe e colonne\n",
    "es2b[:2, :2]\n",
    "\n",
    "a = es2b[:2, :2]\n",
    "b = a[::-1, ::-1]\n",
    "\n",
    "print(\"Matrice\",b)"
   ]
  },
  {
   "cell_type": "markdown",
   "metadata": {},
   "source": [
    "## Array Slicing: Subarrays as no-copy views"
   ]
  },
  {
   "cell_type": "code",
   "execution_count": 80,
   "metadata": {},
   "outputs": [
    {
     "data": {
      "text/plain": [
       "array([[ 2,  0,  0],\n",
       "       [ 4,  5,  6],\n",
       "       [ 8, 20, 17]])"
      ]
     },
     "execution_count": 80,
     "metadata": {},
     "output_type": "execute_result"
    }
   ],
   "source": [
    "es3 = np.random.randint(21, size = (3,3))\n",
    "\n",
    "#Visualizzare es3\n",
    "es3"
   ]
  },
  {
   "cell_type": "code",
   "execution_count": 84,
   "metadata": {},
   "outputs": [
    {
     "data": {
      "text/plain": [
       "array([4, 5, 6])"
      ]
     },
     "execution_count": 84,
     "metadata": {},
     "output_type": "execute_result"
    }
   ],
   "source": [
    "#Estrarre il subarray formato dalla seconda riga e visualizzarlo\n",
    "es3_sub = es3[1, :3]\n",
    "es3_sub"
   ]
  },
  {
   "cell_type": "code",
   "execution_count": 86,
   "metadata": {},
   "outputs": [
    {
     "data": {
      "text/plain": [
       "array([4, 5, 6])"
      ]
     },
     "execution_count": 86,
     "metadata": {},
     "output_type": "execute_result"
    }
   ],
   "source": [
    "#Moltiplicare per 3 tutti gli elementi della seconda colonna di es3\n",
    "es3*3\n",
    "\n",
    "es3_sub\n",
    "#es3_sub non è cambiato perchè il suo valore è rimasto memorizzato dal comando \"es3_sub = es3[1, :3]\""
   ]
  },
  {
   "cell_type": "code",
   "execution_count": 101,
   "metadata": {},
   "outputs": [
    {
     "data": {
      "text/plain": [
       "array([[ 0],\n",
       "       [ 6],\n",
       "       [17]])"
      ]
     },
     "execution_count": 101,
     "metadata": {},
     "output_type": "execute_result"
    }
   ],
   "source": [
    "#Estrarre il subarray formato dalla terza colonna di es3 come copia\n",
    "es3_sub_copy = es3[0:3, 2:].copy()\n",
    "\n",
    "es3_sub_copy"
   ]
  },
  {
   "cell_type": "code",
   "execution_count": 102,
   "metadata": {},
   "outputs": [
    {
     "data": {
      "text/plain": [
       "array([[10],\n",
       "       [16],\n",
       "       [27]])"
      ]
     },
     "execution_count": 102,
     "metadata": {},
     "output_type": "execute_result"
    }
   ],
   "source": [
    "#Sommare 10 a tutti gli elementi di es3-sub-copy e visualizzare\n",
    "es3_sub_copy = es3_sub_copy+10\n",
    "\n",
    "es3_sub_copy"
   ]
  },
  {
   "cell_type": "code",
   "execution_count": 103,
   "metadata": {},
   "outputs": [
    {
     "data": {
      "text/plain": [
       "array([[ 2,  0,  0],\n",
       "       [ 4,  5,  6],\n",
       "       [ 8, 20, 17]])"
      ]
     },
     "execution_count": 103,
     "metadata": {},
     "output_type": "execute_result"
    }
   ],
   "source": [
    "#es3 non contiene le modifiche del punto 6\n",
    "es3"
   ]
  },
  {
   "cell_type": "markdown",
   "metadata": {},
   "source": [
    "## Array Concatenation and Splitting"
   ]
  },
  {
   "cell_type": "code",
   "execution_count": 109,
   "metadata": {},
   "outputs": [
    {
     "data": {
      "text/plain": [
       "[1,\n",
       " 2,\n",
       " 3,\n",
       " 4,\n",
       " 5,\n",
       " 6,\n",
       " 7,\n",
       " 8,\n",
       " 9,\n",
       " 10,\n",
       " 11,\n",
       " 12,\n",
       " 13,\n",
       " 14,\n",
       " 15,\n",
       " 16,\n",
       " 17,\n",
       " 18,\n",
       " 19,\n",
       " 20,\n",
       " 21,\n",
       " 22,\n",
       " 23,\n",
       " 24,\n",
       " 25,\n",
       " 26,\n",
       " 27,\n",
       " 28,\n",
       " 29,\n",
       " 30,\n",
       " 31,\n",
       " 32,\n",
       " 33,\n",
       " 34,\n",
       " 35,\n",
       " 36]"
      ]
     },
     "execution_count": 109,
     "metadata": {},
     "output_type": "execute_result"
    }
   ],
   "source": [
    "#Creare una lista es4 di 36 valori interi crescenti partendo da 1\n",
    "\n",
    "es4 =list(range(1, 37))\n",
    "es4"
   ]
  },
  {
   "cell_type": "code",
   "execution_count": 116,
   "metadata": {},
   "outputs": [
    {
     "data": {
      "text/plain": [
       "array([[ 1,  2,  3,  4,  5,  6],\n",
       "       [ 7,  8,  9, 10, 11, 12],\n",
       "       [13, 14, 15, 16, 17, 18],\n",
       "       [19, 20, 21, 22, 23, 24],\n",
       "       [25, 26, 27, 28, 29, 30],\n",
       "       [31, 32, 33, 34, 35, 36]])"
      ]
     },
     "execution_count": 116,
     "metadata": {},
     "output_type": "execute_result"
    }
   ],
   "source": [
    "#Trasformarlo in un array di dimensione 6x6\n",
    "es4_arr = np.array(es4)\n",
    "es4_matrice =np.reshape(es4_arr, [6,6])\n",
    "\n",
    "es4_matrice"
   ]
  },
  {
   "cell_type": "code",
   "execution_count": 123,
   "metadata": {},
   "outputs": [
    {
     "name": "stdout",
     "output_type": "stream",
     "text": [
      "sub1 [[1 2]\n",
      " [7 8]]\n",
      "sub2 [[13 14]\n",
      " [19 20]]\n",
      "sub3 [[25 26]\n",
      " [31 32]]\n"
     ]
    }
   ],
   "source": [
    "#Estrarre tre subarray di dimensione 2x2 dalle prime due colonne\n",
    "\n",
    "sub1 = es4_matrice[0:2, 0:2]\n",
    "sub2 = es4_matrice[2:4, 0:2]\n",
    "sub3 = es4_matrice[4:6, 0:2]\n",
    "\n",
    "print(\"sub1\", sub1)\n",
    "print(\"sub2\", sub2)\n",
    "print(\"sub3\", sub3)"
   ]
  },
  {
   "cell_type": "code",
   "execution_count": 133,
   "metadata": {},
   "outputs": [
    {
     "data": {
      "text/plain": [
       "array([[ 1,  2],\n",
       "       [ 7,  8],\n",
       "       [13, 14],\n",
       "       [19, 20],\n",
       "       [25, 26],\n",
       "       [31, 32]])"
      ]
     },
     "execution_count": 133,
     "metadata": {},
     "output_type": "execute_result"
    }
   ],
   "source": [
    "#Concatenarli con axis = 0\n",
    "\n",
    "con_axis0 = np.concatenate([sub1,sub2,sub3])\n",
    "con_axis0"
   ]
  },
  {
   "cell_type": "code",
   "execution_count": 126,
   "metadata": {},
   "outputs": [
    {
     "data": {
      "text/plain": [
       "array([[ 1,  2, 13, 14, 25, 26],\n",
       "       [ 7,  8, 19, 20, 31, 32]])"
      ]
     },
     "execution_count": 126,
     "metadata": {},
     "output_type": "execute_result"
    }
   ],
   "source": [
    "#Concatenarli con axis = 1\n",
    "\n",
    "con_axis1 = np.concatenate([sub1,sub2,sub3], axis =1)\n",
    "con_axis1"
   ]
  },
  {
   "cell_type": "code",
   "execution_count": 132,
   "metadata": {},
   "outputs": [
    {
     "data": {
      "text/plain": [
       "array([[ 1,  2,  3,  4,  5,  6],\n",
       "       [ 7,  8,  9, 10, 11, 12]])"
      ]
     },
     "execution_count": 132,
     "metadata": {},
     "output_type": "execute_result"
    }
   ],
   "source": [
    "#Da es4_matrice estrarre un subarray formato dalle prime due righe (sub4)\n",
    "\n",
    "sub4 = es4_matrice[0:2, 0::]\n",
    "sub4"
   ]
  },
  {
   "cell_type": "code",
   "execution_count": 162,
   "metadata": {},
   "outputs": [
    {
     "data": {
      "text/plain": [
       "array([[ 1,  2,  1,  2,  3,  4,  5,  6],\n",
       "       [ 7,  8,  7,  8,  9, 10, 11, 12]])"
      ]
     },
     "execution_count": 162,
     "metadata": {},
     "output_type": "execute_result"
    }
   ],
   "source": [
    "#Concatenare sub1 a sub4 con hstack\n",
    "\n",
    "sub4_sub1 =np.hstack([sub1, sub4])\n",
    "\n",
    "sub4_sub1"
   ]
  },
  {
   "cell_type": "code",
   "execution_count": 156,
   "metadata": {},
   "outputs": [],
   "source": [
    "#Trasformo sub4 da 2x6 a 6x2\n",
    "\n",
    "sub4_trasf =sub4.reshape((6,2))"
   ]
  },
  {
   "cell_type": "code",
   "execution_count": 157,
   "metadata": {},
   "outputs": [
    {
     "data": {
      "text/plain": [
       "array([[ 1,  2],\n",
       "       [ 7,  8],\n",
       "       [13, 14],\n",
       "       [19, 20],\n",
       "       [25, 26],\n",
       "       [31, 32]])"
      ]
     },
     "execution_count": 157,
     "metadata": {},
     "output_type": "execute_result"
    }
   ],
   "source": [
    "#Concatenate sub1, sub2 e sub3 a formare un nuovo array 6x2\n",
    "sub5 = np.concatenate([sub1, sub2, sub3])\n",
    "\n",
    "sub5"
   ]
  },
  {
   "cell_type": "code",
   "execution_count": 160,
   "metadata": {},
   "outputs": [
    {
     "data": {
      "text/plain": [
       "array([[ 1,  2,  1,  2],\n",
       "       [ 3,  4,  7,  8],\n",
       "       [ 5,  6, 13, 14],\n",
       "       [ 7,  8, 19, 20],\n",
       "       [ 9, 10, 25, 26],\n",
       "       [11, 12, 31, 32]])"
      ]
     },
     "execution_count": 160,
     "metadata": {},
     "output_type": "execute_result"
    }
   ],
   "source": [
    "#Concateno sub4_trasf con sub5 con hstack per formare una matrice 6x4\n",
    "np.hstack([sub4_trasf,sub5])"
   ]
  },
  {
   "cell_type": "code",
   "execution_count": 163,
   "metadata": {},
   "outputs": [
    {
     "data": {
      "text/plain": [
       "array([[ 1,  2],\n",
       "       [ 3,  4],\n",
       "       [ 5,  6],\n",
       "       [ 7,  8],\n",
       "       [ 9, 10],\n",
       "       [11, 12],\n",
       "       [ 1,  2],\n",
       "       [ 7,  8],\n",
       "       [13, 14],\n",
       "       [19, 20],\n",
       "       [25, 26],\n",
       "       [31, 32]])"
      ]
     },
     "execution_count": 163,
     "metadata": {},
     "output_type": "execute_result"
    }
   ],
   "source": [
    "#Concateno sub4_trasf con sub5 con vstack per formare una matrice 12x2\n",
    "np.vstack([sub4_trasf,sub5])"
   ]
  },
  {
   "cell_type": "code",
   "execution_count": null,
   "metadata": {},
   "outputs": [],
   "source": []
  }
 ],
 "metadata": {
  "kernelspec": {
   "display_name": "Python 3",
   "language": "python",
   "name": "python3"
  },
  "language_info": {
   "codemirror_mode": {
    "name": "ipython",
    "version": 3
   },
   "file_extension": ".py",
   "mimetype": "text/x-python",
   "name": "python",
   "nbconvert_exporter": "python",
   "pygments_lexer": "ipython3",
   "version": "3.8.3"
  }
 },
 "nbformat": 4,
 "nbformat_minor": 4
}
