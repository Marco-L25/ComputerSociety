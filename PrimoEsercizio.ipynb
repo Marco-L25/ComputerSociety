{
 "cells": [
  {
   "cell_type": "markdown",
   "metadata": {},
   "source": [
    "# *Ricetta carbonara*"
   ]
  },
  {
   "cell_type": "code",
   "execution_count": null,
   "metadata": {},
   "outputs": [],
   "source": [
    "#Costanti \n",
    "\n",
    "Spaghetti = 90\n",
    "Tuorli = 2\n",
    "Guanciale = 40\n",
    "Pecorino = 15"
   ]
  },
  {
   "cell_type": "markdown",
   "metadata": {},
   "source": [
    "## *Ingredienti per una persona:*\n",
    "\n",
    "### Spaghetti: 90 g\n",
    "### Tuorli: 2\n",
    "### Guanciale: 40 g\n",
    "### Pecorino romano: 15 g"
   ]
  },
  {
   "cell_type": "code",
   "execution_count": null,
   "metadata": {},
   "outputs": [],
   "source": [
    "#Altro modo per inserire la ricetta\n",
    "\n",
    "#print(\"Ricetta carbonara per una persona: \\nSpaghetti: 90 g \\nTuorli: 2 \\nGuanciale: 40 g \\nPecorino romano: 15 g\")"
   ]
  },
  {
   "cell_type": "code",
   "execution_count": null,
   "metadata": {},
   "outputs": [],
   "source": [
    "#Inserimento della variabile\n",
    "\n",
    "numero = input(\"Inserire il numero di persone per la quale si desidera cucinare:\")\n",
    "print(\"Il numero inserito è:\", numero)"
   ]
  },
  {
   "cell_type": "code",
   "execution_count": null,
   "metadata": {},
   "outputs": [],
   "source": [
    "num = int(numero)"
   ]
  },
  {
   "cell_type": "code",
   "execution_count": null,
   "metadata": {},
   "outputs": [],
   "source": [
    "#Creazione di tutte le variabili in base a \"numero\"\n",
    "\n",
    "Spaghetti_tot = Spaghetti*num\n",
    "Tuorli_tot = Tuorli*num\n",
    "Guanciale_tot = Guanciale*num\n",
    "Pecorino_tot = Pecorino*num"
   ]
  },
  {
   "cell_type": "code",
   "execution_count": null,
   "metadata": {},
   "outputs": [],
   "source": [
    "#Output grafico della ricetta aggiornata\n",
    "\n",
    "print(\"Ricetta carbonara per:\", num)\n",
    "print(\"Spaghetti:\", Spaghetti_tot, \"g\")\n",
    "print(\"Tuorli:\", Tuorli_tot)\n",
    "print(\"Guanciale:\", Guanciale_tot, \"g\")\n",
    "print(\"Pecorino\", Pecorino_tot, \"g\")"
   ]
  }
 ],
 "metadata": {
  "kernelspec": {
   "display_name": "Python 3",
   "language": "python",
   "name": "python3"
  },
  "language_info": {
   "codemirror_mode": {
    "name": "ipython",
    "version": 3
   },
   "file_extension": ".py",
   "mimetype": "text/x-python",
   "name": "python",
   "nbconvert_exporter": "python",
   "pygments_lexer": "ipython3",
   "version": "3.8.3"
  }
 },
 "nbformat": 4,
 "nbformat_minor": 4
}
